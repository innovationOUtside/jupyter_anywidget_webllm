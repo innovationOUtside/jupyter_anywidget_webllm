{
 "cells": [
  {
   "cell_type": "markdown",
   "metadata": {},
   "source": [
    "# webllm anywidget\n",
    "\n",
    "A simple `anywidget` for interacting with SmolLM2 generative LLM models via webllm; optionally provide a template as a JSON schema to structure the output."
   ]
  },
  {
   "cell_type": "markdown",
   "metadata": {},
   "source": [
    "## Simple headless operation\n",
    "\n",
    "We can use the widget in a \"headless\" way to run the model:"
   ]
  },
  {
   "cell_type": "code",
   "execution_count": 1,
   "metadata": {},
   "outputs": [
    {
     "data": {
      "application/vnd.jupyter.widget-view+json": {
       "model_id": "",
       "version_major": 2,
       "version_minor": 1
      },
      "text/plain": [
       "webllmWidget(headless=True, response={'status': 'initialising'})"
      ]
     },
     "metadata": {},
     "output_type": "display_data"
    },
    {
     "data": {
      "text/plain": [
       "({'status': 'ready', 'time': 3.4547698497772217},\n",
       " {'widget': 'jupyter_anywidget_webllm',\n",
       "  'webllm_model': 'SmolLM2-1.7B-Instruct-q4f16_1-MLC'})"
      ]
     },
     "execution_count": 1,
     "metadata": {},
     "output_type": "execute_result"
    }
   ],
   "source": [
    "from jupyter_anywidget_webllm import webllm_headless\n",
    "\n",
    "%load_ext jupyter_anywidget_webllm\n",
    "\n",
    "# Load the widget\n",
    "w = webllm_headless()\n",
    "\n",
    "# Wait for webllm to load\n",
    "w.ready()\n",
    "\n",
    "# Display status\n",
    "w.response, w.about"
   ]
  },
  {
   "cell_type": "code",
   "execution_count": 2,
   "metadata": {},
   "outputs": [
    {
     "data": {
      "text/plain": [
       "'In the quiet, moonlit night,\\nA whisper of love, so bright.\\nUnder the starlit sky so blue,\\nA tale of dreams, forever true.'"
      ]
     },
     "execution_count": 2,
     "metadata": {},
     "output_type": "execute_result"
    }
   ],
   "source": [
    "output = w.convert(\"Write me a four line poem\")\n",
    "output"
   ]
  },
  {
   "cell_type": "code",
   "execution_count": 3,
   "metadata": {},
   "outputs": [],
   "source": [
    "#Non-blocking\n",
    "w.base_convert(\"Write me a 125 word short story\")"
   ]
  },
  {
   "cell_type": "code",
   "execution_count": 4,
   "metadata": {},
   "outputs": [
    {
     "data": {
      "text/plain": [
       "{'status': 'working on it...',\n",
       " 'output_template': '',\n",
       " 'input_raw': 'Write me a 125 word short story'}"
      ]
     },
     "execution_count": 4,
     "metadata": {},
     "output_type": "execute_result"
    }
   ],
   "source": [
    "# When it's ready, collect from:\n",
    "w.response"
   ]
  },
  {
   "cell_type": "code",
   "execution_count": 6,
   "metadata": {},
   "outputs": [
    {
     "data": {
      "text/plain": [
       "{'status': 'completed',\n",
       " 'output_raw': 'Once upon a time, in a bustling city, there lived a little kitten named Luna. She was the most curious kitten ever, with eyes that sparkled like stars and fur as soft as the moon. Luna had a big dream: to explore the whole world and discover its secrets. One day, she decided to take the leap and embarked on an adventure.\\n\\nLuna\\'s journey took her through cobweb-filled alleyways, past towering skyscrapers, and over busy roads. Along the way, she met many creatures who shared their stories with her. There was Benny the brave bear, who taught her how to stand tall like him; Dr. Doodlebug the wise old bug, who showed her how to navigate through tight spaces; and Sally Squirrel, whose bushy tail swung back and forth as she explained about hidden stashes of nuts.\\n\\nDespite facing many challenges such as slipping on wet leaves and getting lost in narrow alleys, Luna never gave up. She remembered Benny\\'s advice: \"Stand tall like me,\" she repeated to herself each time she slipped on wet leaves or felt scared about being alone at night. She also kept Dr. Doodlebug\\'s lesson in mind: \"Navigating through tight spaces is not about getting stuck.\" And Sally Squirrel\\'s secret stash reminded her always to have something safe when things got tough: \"There\\'s always a nut for rainy days.\"\\n\\nFinally, after weeks of adventures and lessons learned from friends around town, Luna reached her dream destination – an old but beautiful lighthouse standing high above the sea waves on a rocky cliffside overlooking the vast ocean below. As she climbed up the winding stairs one by one with each step feeling like climbing into history itself, she realized that no matter how big or small you are or where you come from, everyone has their own unique story worth sharing because we all have our own special place in this world called home – right next to this lighthouse which stood tall even against strong winds and heavy rains for centuries without losing its light during nights when it seemed darkest outside.',\n",
       " 'max_tokens': 512,\n",
       " 'temperature': 0.5,\n",
       " 'top_p': 0.5,\n",
       " 'frequency_penalty': 0.5,\n",
       " 'presence_penalty': 0.3}"
      ]
     },
     "execution_count": 6,
     "metadata": {},
     "output_type": "execute_result"
    }
   ],
   "source": [
    "w.response"
   ]
  },
  {
   "cell_type": "code",
   "execution_count": 7,
   "metadata": {},
   "outputs": [],
   "source": [
    "w.close()"
   ]
  },
  {
   "cell_type": "markdown",
   "metadata": {},
   "source": [
    "## Running the model with a status display\n",
    "\n",
    "We can also run the model with either an embedded, or a sidebar panel, display."
   ]
  },
  {
   "cell_type": "code",
   "execution_count": 8,
   "metadata": {},
   "outputs": [],
   "source": [
    "from jupyter_anywidget_webllm import webllm_panel, webllm_inline"
   ]
  },
  {
   "cell_type": "code",
   "execution_count": 13,
   "metadata": {},
   "outputs": [
    {
     "data": {
      "application/vnd.jupyter.widget-view+json": {
       "model_id": "93993a2936924a3c9a813b0bde180fa5",
       "version_major": 2,
       "version_minor": 1
      },
      "text/plain": [
       "webllmWidget(response={'status': 'initialising'})"
      ]
     },
     "metadata": {},
     "output_type": "display_data"
    }
   ],
   "source": [
    "w_inline = webllm_inline()"
   ]
  },
  {
   "cell_type": "code",
   "execution_count": 9,
   "metadata": {},
   "outputs": [],
   "source": [
    "w_panel = webllm_panel()"
   ]
  },
  {
   "cell_type": "markdown",
   "metadata": {},
   "source": [
    "## Structured output\n",
    "\n",
    "We can generate a structured output "
   ]
  },
  {
   "cell_type": "code",
   "execution_count": 2,
   "metadata": {},
   "outputs": [],
   "source": [
    "output_template=\"\"\"{\n",
    "    \"title\": \"A story\",\n",
    "    \"type\": \"object\",\n",
    "    \"properties\": {\n",
    "      \"tale\": {\n",
    "        \"type\": \"string\",\n",
    "        \"description\": \"The story\"\n",
    "      }}}\"\"\""
   ]
  },
  {
   "cell_type": "code",
   "execution_count": 3,
   "metadata": {},
   "outputs": [
    {
     "data": {
      "text/plain": [
       "{'tale': \"It was night, and the moon cast a silver glow over the quiet town. Suddenly, a faint whisper echoed through the streets, 'Find me.' A young girl named Lily felt an inexplicable pull. She followed the whisper to an old, abandoned house on the hill.\"}"
      ]
     },
     "execution_count": 3,
     "metadata": {},
     "output_type": "execute_result"
    }
   ],
   "source": [
    "import json\n",
    "prompt=\"\"\"\"\n",
    "Using the provided template output format,\n",
    "write me a story in 50 words that starts:\n",
    "It was night\n",
    "\"\"\"\"\n",
    "\n",
    "raw_response = w.convert(prompt, output_template=output_template, force=True)\n",
    "\n",
    "json.loads(raw_response)"
   ]
  },
  {
   "cell_type": "markdown",
   "metadata": {},
   "source": [
    "## Setting model parameters\n",
    "\n",
    "We can set model parameters by passing a `dict` to the `"
   ]
  },
  {
   "cell_type": "code",
   "execution_count": 4,
   "metadata": {},
   "outputs": [],
   "source": [
    "params={\"max_tokens\":4096,\n",
    "        \"temperature\":0,\n",
    "        \"top_p\": 0.1, \n",
    "        \"frequency_penalty\": 0.0,\n",
    "        \"presence_penalty\": 0.0}"
   ]
  },
  {
   "cell_type": "code",
   "execution_count": 5,
   "metadata": {},
   "outputs": [
    {
     "data": {
      "text/plain": [
       "'In the quiet, moonlit night,\\nA whisper, soft and sweet, does start,\\nA tale, untold, yet so divine,\\nOf love, of dreams, of endless shine.\\n\\nThe stars, like diamonds, twinkle bright,\\nIn the vast, endless, endless night,\\nThe world, a canvas, painted white,\\nOf dreams, of love, of endless light.\\n\\nThe moon, a glowing, glowing eye,\\nGuides the heart, through the endless sky,\\nOf love, of dreams, of endless might,\\nOf hope, in the endless, endless night.\\n\\nThe stars, like diamonds, twinkle bright,\\nIn the vast, endless, endless night,\\nThe world, a canvas, painted white,\\nOf dreams, of love, of endless light.\\n\\nThe moon, a glowing, glowing eye,\\nGuides the heart, through the endless sky,\\nOf love, of dreams, of endless might,\\nOf hope, in the endless, endless night.'"
      ]
     },
     "execution_count": 5,
     "metadata": {},
     "output_type": "execute_result"
    }
   ],
   "source": [
    "w.convert(\"write a poem in 8 lines\", params=params)"
   ]
  },
  {
   "cell_type": "code",
   "execution_count": null,
   "metadata": {},
   "outputs": [],
   "source": []
  }
 ],
 "metadata": {
  "kernelspec": {
   "display_name": "Python 3 (ipykernel)",
   "language": "python",
   "name": "python3"
  },
  "language_info": {
   "codemirror_mode": {
    "name": "ipython",
    "version": 3
   },
   "file_extension": ".py",
   "mimetype": "text/x-python",
   "name": "python",
   "nbconvert_exporter": "python",
   "pygments_lexer": "ipython3",
   "version": "3.11.0"
  }
 },
 "nbformat": 4,
 "nbformat_minor": 4
}
